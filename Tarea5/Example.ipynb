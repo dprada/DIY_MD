{
 "cells": [
  {
   "cell_type": "markdown",
   "id": "d55139ee-0480-4972-8522-4114fe05308b",
   "metadata": {},
   "source": [
    "# Monte Carlo - Doble Pozo\n",
    "\n",
    "\n",
    "\\begin{equation}\n",
    "V(x)=E_{0}\\left[ \\left(\\frac{x}{a}\\right)^4 -2\\left(\\frac{x}{a}\\right)^2 \\right]-\\frac{b}{a}x\n",
    "\\end{equation}"
   ]
  },
  {
   "cell_type": "code",
   "execution_count": 1,
   "id": "c1406c24",
   "metadata": {},
   "outputs": [],
   "source": [
    "import openmm as mm\n",
    "from openmm import app\n",
    "from openmm import unit\n",
    "from openmmtools.constants import kB\n",
    "import numpy as np\n",
    "from tqdm import tqdm\n",
    "import matplotlib.pyplot as plt"
   ]
  },
  {
   "cell_type": "code",
   "execution_count": 2,
   "id": "4e589dcf-873f-4b7f-8951-a598e69e1cc4",
   "metadata": {},
   "outputs": [],
   "source": [
    "from numpy.random import default_rng\n",
    "rng = default_rng()"
   ]
  },
  {
   "cell_type": "code",
   "execution_count": 3,
   "id": "b5ee0b61",
   "metadata": {},
   "outputs": [],
   "source": [
    "# Definición del sistema.\n",
    "\n",
    "n_particles = 1\n",
    "mass = 100 * unit.amu"
   ]
  },
  {
   "cell_type": "code",
   "execution_count": 4,
   "id": "293e4dc0",
   "metadata": {},
   "outputs": [],
   "source": [
    "# Creación del sistema.\n",
    "\n",
    "system = mm.System()\n",
    "\n",
    "for ii in range(n_particles):\n",
    "    system.addParticle(mass)"
   ]
  },
  {
   "cell_type": "code",
   "execution_count": 5,
   "id": "ec45bee6",
   "metadata": {},
   "outputs": [],
   "source": [
    "# Añadiendo el potencial externo al sistema\n",
    "\n",
    "Eo = 3.0 * unit.kilocalories_per_mole\n",
    "a = 0.5 * unit.nanometers\n",
    "b = 0.0 * unit.kilocalories_per_mole\n",
    "k = 1.0*unit.kilocalories_per_mole/unit.angstrom**2\n",
    "\n",
    "A = Eo/(a**4)\n",
    "B = -2.0*Eo/(a**2)\n",
    "C = -b/a\n",
    "D = k/2.0\n",
    "\n",
    "force = mm.CustomExternalForce('A*x^4+B*x^2+C*x + D*(y^2+z^2)')\n",
    "force.addGlobalParameter('A', A)\n",
    "force.addGlobalParameter('B', B)\n",
    "force.addGlobalParameter('C', C)\n",
    "force.addGlobalParameter('D', D)\n",
    "\n",
    "\n",
    "for ii in range(n_particles):\n",
    "    force.addParticle(ii, [])\n",
    "\n",
    "_ = system.addForce(force)\n"
   ]
  },
  {
   "cell_type": "code",
   "execution_count": 6,
   "id": "a98693c1",
   "metadata": {},
   "outputs": [],
   "source": [
    "# Definición del estado termodinámico y el integrador.\n",
    "\n",
    "step_size = 0.01*unit.picoseconds\n",
    "temperature = 300*unit.kelvin\n",
    "friction = 1.0/unit.picosecond # Damping para la dinámica de Langevin\n",
    "\n",
    "integrator = mm.LangevinIntegrator(temperature, friction, step_size)"
   ]
  },
  {
   "cell_type": "markdown",
   "id": "7f234725-101f-416f-800c-0aaca45e7530",
   "metadata": {},
   "source": [
    "**Por favor prueba a remplazar en la siguiente celda 'CPU' por 'CUDA' a ver si corre**"
   ]
  },
  {
   "cell_type": "code",
   "execution_count": 7,
   "id": "9de06d34",
   "metadata": {},
   "outputs": [],
   "source": [
    "# Creación de la plataforma.\n",
    "\n",
    "platform_name = 'CUDA'\n",
    "platform = mm.Platform.getPlatformByName(platform_name)"
   ]
  },
  {
   "cell_type": "code",
   "execution_count": 8,
   "id": "7fd9e474",
   "metadata": {},
   "outputs": [],
   "source": [
    "# Creación del contexto.\n",
    "context = mm.Context(system, integrator, platform)"
   ]
  },
  {
   "cell_type": "code",
   "execution_count": 9,
   "id": "e104ecf1-053d-4be5-97ac-e5feecb3ce90",
   "metadata": {},
   "outputs": [],
   "source": [
    "def movement(lmax):\n",
    "    return lmax * rng.uniform(-1,1)"
   ]
  },
  {
   "cell_type": "code",
   "execution_count": 10,
   "id": "3f77bdf9-f999-48ee-b6b4-3a4327a33088",
   "metadata": {},
   "outputs": [],
   "source": [
    "def decide(Ui, Uf, temperature):\n",
    "    \n",
    "    kBT = kB * temperature\n",
    "    \n",
    "    accept = False\n",
    "\n",
    "    if Uf <= Ui:\n",
    "        accept = True\n",
    "    else:\n",
    "        weight = np.exp(- (Uf - Ui)/kBT)\n",
    "        random = rng.uniform(0,1)\n",
    "        if weight >= random:\n",
    "            accept = True\n",
    "        else:\n",
    "            accept = False\n",
    "            \n",
    "    return accept"
   ]
  },
  {
   "cell_type": "code",
   "execution_count": 23,
   "id": "5df14c7e",
   "metadata": {},
   "outputs": [
    {
     "name": "stderr",
     "output_type": "stream",
     "text": [
      "100%|██████████████████████████████████████████████████████████████████████████████████████████████████████████████████████████████████████████████████████████████████████| 50000/50000 [00:16<00:00, 3019.51it/s]\n"
     ]
    }
   ],
   "source": [
    "# Condiciones iniciales\n",
    "\n",
    "initial_positions  = np.zeros([n_particles, 3], np.float32) * unit.angstroms\n",
    "initial_positions[0,0] = 5.0 * unit.angstroms\n",
    "\n",
    "mc_steps = 50000\n",
    "num_trues = 0\n",
    "\n",
    "mc_traj = np.zeros([mc_steps+1], np.float32) * unit.angstroms\n",
    "mc_traj[0] = initial_positions[0,0]\n",
    "\n",
    "for ii in tqdm(range(mc_steps)):\n",
    "\n",
    "    context.setPositions(initial_positions)\n",
    "    state_initial = context.getState(getEnergy=True)\n",
    "    Ui = state_initial.getPotentialEnergy()\n",
    "    \n",
    "    final_positions = np.zeros([n_particles, 3], np.float32) * unit.angstroms\n",
    "    final_positions[0,0] = initial_positions[0,0] + movement(4.0*unit.angstroms)\n",
    "    context.setPositions(final_positions)\n",
    "    state_final = context.getState(getEnergy=True)\n",
    "    Uf = state_final.getPotentialEnergy()\n",
    "    \n",
    "    accept = decide(Ui, Uf, temperature)\n",
    "    \n",
    "    if accept == True:\n",
    "        initial_positions = final_positions\n",
    "        num_trues += 1\n",
    "\n",
    "    mc_traj[ii+1] = initial_positions[0,0]\n",
    "        \n",
    "acceptance_rate=num_trues/mc_steps"
   ]
  },
  {
   "cell_type": "code",
   "execution_count": 24,
   "id": "8cfd657e-6e9b-4bb0-b352-dc246d8c36c8",
   "metadata": {},
   "outputs": [
    {
     "data": {
      "text/plain": [
       "0.34022"
      ]
     },
     "execution_count": 24,
     "metadata": {},
     "output_type": "execute_result"
    }
   ],
   "source": [
    "acceptance_rate"
   ]
  },
  {
   "cell_type": "code",
   "execution_count": 25,
   "id": "d9bb4a77-266e-4912-9532-ae6a3d0f15f7",
   "metadata": {},
   "outputs": [
    {
     "data": {
      "text/plain": [
       "<matplotlib.collections.PathCollection at 0x7fe189973950>"
      ]
     },
     "execution_count": 25,
     "metadata": {},
     "output_type": "execute_result"
    },
    {
     "data": {
      "image/png": "[encoded data removed]",
      "text/plain": [
       "<Figure size 432x288 with 1 Axes>"
      ]
     },
     "metadata": {
      "needs_background": "light"
     },
     "output_type": "display_data"
    }
   ],
   "source": [
    "plt.scatter(range(mc_steps+1), mc_traj)"
   ]
  },
  {
   "cell_type": "code",
   "execution_count": 26,
   "id": "9c232eab-baf0-4cd6-aa92-5e9479676789",
   "metadata": {},
   "outputs": [
    {
     "data": {
      "text/plain": [
       "Quantity(value=0.705989, unit=angstrom)"
      ]
     },
     "execution_count": 26,
     "metadata": {},
     "output_type": "execute_result"
    }
   ],
   "source": [
    "mc_traj.mean()"
   ]
  },
  {
   "cell_type": "code",
   "execution_count": null,
   "id": "c943423a-03b5-4549-9306-6cf0988bedb5",
   "metadata": {},
   "outputs": [],
   "source": []
  }
 ],
 "metadata": {
  "kernelspec": {
   "display_name": "Python 3 (ipykernel)",
   "language": "python",
   "name": "python3"
  },
  "language_info": {
   "codemirror_mode": {
    "name": "ipython",
    "version": 3
   },
   "file_extension": ".py",
   "mimetype": "text/x-python",
   "name": "python",
   "nbconvert_exporter": "python",
   "pygments_lexer": "ipython3",
   "version": "3.7.12"
  }
 },
 "nbformat": 4,
 "nbformat_minor": 5
}
