{
 "cells": [
  {
   "cell_type": "markdown",
   "id": "7a5e6f10-e6e3-4e4b-8732-9b2a7119dd9e",
   "metadata": {
    "tags": []
   },
   "source": [
    "# Argon Free Particles [Langevin with Euler Integrator]"
   ]
  },
  {
   "cell_type": "code",
   "execution_count": 1,
   "id": "427fcff8-c250-42cb-bb69-90f5334e7273",
   "metadata": {},
   "outputs": [],
   "source": [
    "from matplotlib import pyplot as plt\n",
    "import numpy as np\n",
    "from tqdm import tqdm\n",
    "import pyunitwizard as puw\n",
    "\n",
    "puw.configure.load_library(['pint'])\n",
    "rng = np.random.default_rng()"
   ]
  },
  {
   "cell_type": "code",
   "execution_count": 2,
   "id": "1abb4a7d-6c23-4526-96ab-7068e6ab697c",
   "metadata": {},
   "outputs": [],
   "source": [
    "dim = 3\n",
    "n_particles = 10 #200"
   ]
  },
  {
   "cell_type": "code",
   "execution_count": 3,
   "id": "2283dffc-9161-479b-9149-c0c525030354",
   "metadata": {},
   "outputs": [],
   "source": [
    "masses = np.full(n_particles, 39.948) * puw.unit('amu/mol')"
   ]
  },
  {
   "cell_type": "code",
   "execution_count": 4,
   "id": "974f734f-34ba-4db3-903b-2fd27a31830f",
   "metadata": {},
   "outputs": [
    {
     "data": {
      "text/html": [
       "39.948 unified_atomic_mass_unit/mole"
      ],
      "text/latex": [
       "$39.948\\ \\frac{\\mathrm{unified\\_atomic\\_mass\\_unit}}{\\mathrm{mole}}$"
      ],
      "text/plain": [
       "39.948 <Unit('unified_atomic_mass_unit / mole')>"
      ]
     },
     "execution_count": 4,
     "metadata": {},
     "output_type": "execute_result"
    }
   ],
   "source": [
    "masses[0]"
   ]
  },
  {
   "cell_type": "code",
   "execution_count": 5,
   "id": "20647eb8-4610-4d37-a9e9-cd07f2620329",
   "metadata": {
    "tags": []
   },
   "outputs": [],
   "source": [
    "damping = 20.0/puw.unit('ps')\n",
    "temperature = 300.0*puw.unit('K')\n",
    "delta_t = 0.01*puw.unit('ps')"
   ]
  },
  {
   "cell_type": "code",
   "execution_count": 6,
   "id": "67a3d47e-d20b-448d-9319-f76c9b524711",
   "metadata": {},
   "outputs": [],
   "source": [
    "Kb = 1.38064852e-23*puw.unit('J/K')\n",
    "NA = 6.02214086e23*puw.unit('1/mol')\n",
    "\n",
    "KB = Kb*NA\n",
    "\n",
    "KT = KB*temperature"
   ]
  },
  {
   "cell_type": "code",
   "execution_count": 7,
   "id": "6c8e2dc4-09f1-4226-8d8c-a501953b6390",
   "metadata": {},
   "outputs": [
    {
     "data": {
      "text/html": [
       "2494.337959677158 joule/mole"
      ],
      "text/latex": [
       "$2494.337959677158\\ \\frac{\\mathrm{joule}}{\\mathrm{mole}}$"
      ],
      "text/plain": [
       "2494.337959677158 <Unit('joule / mole')>"
      ]
     },
     "execution_count": 7,
     "metadata": {},
     "output_type": "execute_result"
    }
   ],
   "source": [
    "KT"
   ]
  },
  {
   "cell_type": "code",
   "execution_count": 8,
   "id": "3b525cdb-f182-47d4-af4e-143ffae9cd3d",
   "metadata": {},
   "outputs": [],
   "source": [
    "def potential (positions):\n",
    "    \n",
    "    return 0.0*puw.unit('J/mol')\n",
    "\n",
    "def potential_forces (positions):\n",
    "    \n",
    "    return np.zeros(positions.shape) * puw.unit('J/mol/nm')"
   ]
  },
  {
   "cell_type": "code",
   "execution_count": 9,
   "id": "4056364b-c553-4668-900f-83d6e820cf2f",
   "metadata": {},
   "outputs": [],
   "source": [
    "def dissipation_forces(damping, velocities, masses):\n",
    "    \n",
    "    return -damping*masses[:, np.newaxis]*velocities"
   ]
  },
  {
   "cell_type": "code",
   "execution_count": 10,
   "id": "e23ef24b-43f8-45ec-b17c-aab0a8e04d5e",
   "metadata": {},
   "outputs": [],
   "source": [
    "def fluctuation_forces(damping, KT, dim, masses):\n",
    "    \n",
    "    global rng\n",
    "    \n",
    "    n_particles = masses.shape[0]\n",
    "    \n",
    "    sigma = np.sqrt(2.0*damping*KT*masses/puw.unit('seconds'))\n",
    "    \n",
    "    return rng.normal(size=[n_particles, dim]) * sigma[:, np.newaxis]"
   ]
  },
  {
   "cell_type": "code",
   "execution_count": 11,
   "id": "69f03b1e-defc-4bcf-a80e-de21ae462c72",
   "metadata": {},
   "outputs": [],
   "source": [
    "def euler_integrator(positions, velocities, forces, masses, delta_t):\n",
    "    \n",
    "    new_positions = positions + velocities * delta_t\n",
    "    new_velocities = velocities + (forces/masses[:, np.newaxis]) * delta_t\n",
    "    \n",
    "    return new_positions, new_velocities"
   ]
  },
  {
   "cell_type": "code",
   "execution_count": 12,
   "id": "e9202e46-6f7d-49a5-b7e3-21a4696777f4",
   "metadata": {},
   "outputs": [],
   "source": [
    "simulation_t = 0.10*puw.unit('ns')\n",
    "n_steps = int(simulation_t/delta_t)"
   ]
  },
  {
   "cell_type": "code",
   "execution_count": 13,
   "id": "7e8f4adb-ba76-48d3-8d2f-8455673f3d34",
   "metadata": {},
   "outputs": [],
   "source": [
    "positions = np.zeros([n_particles, dim])*puw.unit('nm')\n",
    "velocities = np.zeros([n_particles, dim])*puw.unit('nm/ps')"
   ]
  },
  {
   "cell_type": "code",
   "execution_count": 14,
   "id": "ababcf24-c90c-4d7a-ab04-a628d734a72f",
   "metadata": {},
   "outputs": [],
   "source": [
    "trajectory_positions = np.zeros([n_steps, n_particles, dim])*puw.unit('nm')\n",
    "trajectory_velocities = np.zeros([n_steps, n_particles, dim])*puw.unit('nm/ps')\n",
    "trajectory_time = np.zeros([n_steps])*puw.unit('ps')"
   ]
  },
  {
   "cell_type": "code",
   "execution_count": 15,
   "id": "a09d8a5a-979c-46e3-b0c5-732e80f199a3",
   "metadata": {},
   "outputs": [
    {
     "data": {
      "text/plain": [
       "0.0022351741790771484"
      ]
     },
     "execution_count": 15,
     "metadata": {},
     "output_type": "execute_result"
    }
   ],
   "source": [
    "trajectory_positions.nbytes/1024/1024/1024 "
   ]
  },
  {
   "cell_type": "code",
   "execution_count": 16,
   "id": "8c3b0bf0-fcfc-4f56-a468-c810c59aab96",
   "metadata": {},
   "outputs": [],
   "source": [
    "trajectory_positions[0,:,:] = positions\n",
    "trajectory_velocities[0,:,:] = velocities\n",
    "trajectory_time[0] = 0.0*puw.unit('ps')"
   ]
  },
  {
   "cell_type": "code",
   "execution_count": 17,
   "id": "abd8570a-d82e-45e9-aa37-db8f8b8f8888",
   "metadata": {},
   "outputs": [],
   "source": [
    "aa = (potential_forces(positions)+dissipation_forces(damping, velocities, masses))/masses[:, np.newaxis]"
   ]
  },
  {
   "cell_type": "code",
   "execution_count": 18,
   "id": "d0df23f1-60b1-4398-ac13-f634955ed16a",
   "metadata": {},
   "outputs": [
    {
     "data": {
      "text/html": [
       "<table><tbody><tr><th>Magnitude</th><td style='text-align:left;'><pre>[[0.0 0.0 0.0]<br> [0.0 0.0 0.0]<br> [0.0 0.0 0.0]<br> [0.0 0.0 0.0]<br> [0.0 0.0 0.0]<br> [0.0 0.0 0.0]<br> [0.0 0.0 0.0]<br> [0.0 0.0 0.0]<br> [0.0 0.0 0.0]<br> [0.0 0.0 0.0]]</pre></td></tr><tr><th>Units</th><td style='text-align:left;'>nanometer/picosecond<sup>2</sup></td></tr></tbody></table>"
      ],
      "text/latex": [
       "$\\begin{pmatrix}0.0 & 0.0 & 0.0\\\\ \n",
       "0.0 & 0.0 & 0.0\\\\ \n",
       "0.0 & 0.0 & 0.0\\\\ \n",
       "0.0 & 0.0 & 0.0\\\\ \n",
       "0.0 & 0.0 & 0.0\\\\ \n",
       "0.0 & 0.0 & 0.0\\\\ \n",
       "0.0 & 0.0 & 0.0\\\\ \n",
       "0.0 & 0.0 & 0.0\\\\ \n",
       "0.0 & 0.0 & 0.0\\\\ \n",
       "0.0 & 0.0 & 0.0\\end{pmatrix}\\ \\frac{\\mathrm{nanometer}}{\\mathrm{picosecond}^{2}}$"
      ],
      "text/plain": [
       "array([[0., 0., 0.],\n",
       "       [0., 0., 0.],\n",
       "       [0., 0., 0.],\n",
       "       [0., 0., 0.],\n",
       "       [0., 0., 0.],\n",
       "       [0., 0., 0.],\n",
       "       [0., 0., 0.],\n",
       "       [0., 0., 0.],\n",
       "       [0., 0., 0.],\n",
       "       [0., 0., 0.]]) <Unit('nanometer / picosecond ** 2')>"
      ]
     },
     "execution_count": 18,
     "metadata": {},
     "output_type": "execute_result"
    }
   ],
   "source": [
    "puw.convert(aa, 'nm/(ps*ps)')"
   ]
  },
  {
   "cell_type": "code",
   "execution_count": 19,
   "id": "5c95a301-c34d-4970-95d6-dcd9e123c12d",
   "metadata": {},
   "outputs": [
    {
     "data": {
      "text/html": [
       "<table><tbody><tr><th>Magnitude</th><td style='text-align:left;'><pre>[[1376.5883854850956 -112.0734824693615 1183.1936512047207]<br> [-1658.6741970414064 2195.0653279417975 2767.0751969550934]<br> [3167.647938020591 1403.2306927808627 -1629.0982768922927]<br> [-448.8565793880985 -1218.7636421184732 1258.7221443585859]<br> [2117.351470391195 -1216.296074537562 967.9187385320554]<br> [88.05398750753986 1219.908645263946 -1854.8059514657443]<br> [-1130.565604452692 -1956.0664057258557 759.4510301621393]<br> [2286.146927187139 -2311.9893080102856 1489.4890898592244]<br> [1064.0088250838653 -3082.3208782066304 -1018.1332212442135]<br> [1218.4410208630948 -669.7912655824489 1467.7915604790392]]</pre></td></tr><tr><th>Units</th><td style='text-align:left;'>joule<sup>0.5</sup> unified_atomic_mass_unit<sup>0.5</sup>/(mole picosecond<sup>0.5</sup> second<sup>0.5</sup>)</td></tr></tbody></table>"
      ],
      "text/latex": [
       "$\\begin{pmatrix}1376.5883854850956 & -112.0734824693615 & 1183.1936512047207\\\\ \n",
       "-1658.6741970414064 & 2195.0653279417975 & 2767.0751969550934\\\\ \n",
       "3167.647938020591 & 1403.2306927808627 & -1629.0982768922927\\\\ \n",
       "-448.8565793880985 & -1218.7636421184732 & 1258.7221443585859\\\\ \n",
       "2117.351470391195 & -1216.296074537562 & 967.9187385320554\\\\ \n",
       "88.05398750753986 & 1219.908645263946 & -1854.8059514657443\\\\ \n",
       "-1130.565604452692 & -1956.0664057258557 & 759.4510301621393\\\\ \n",
       "2286.146927187139 & -2311.9893080102856 & 1489.4890898592244\\\\ \n",
       "1064.0088250838653 & -3082.3208782066304 & -1018.1332212442135\\\\ \n",
       "1218.4410208630948 & -669.7912655824489 & 1467.7915604790392\\end{pmatrix}\\ \\frac{\\mathrm{joule}^{0.5} \\cdot \\mathrm{unified\\_atomic\\_mass\\_unit}^{0.5}}{\\left(\\mathrm{mole} \\cdot \\mathrm{picosecond}^{0.5} \\cdot \\mathrm{second}^{0.5}\\right)}$"
      ],
      "text/plain": [
       "array([[ 1376.58838549,  -112.07348247,  1183.1936512 ],\n",
       "       [-1658.67419704,  2195.06532794,  2767.07519696],\n",
       "       [ 3167.64793802,  1403.23069278, -1629.09827689],\n",
       "       [ -448.85657939, -1218.76364212,  1258.72214436],\n",
       "       [ 2117.35147039, -1216.29607454,   967.91873853],\n",
       "       [   88.05398751,  1219.90864526, -1854.80595147],\n",
       "       [-1130.56560445, -1956.06640573,   759.45103016],\n",
       "       [ 2286.14692719, -2311.98930801,  1489.48908986],\n",
       "       [ 1064.00882508, -3082.32087821, -1018.13322124],\n",
       "       [ 1218.44102086,  -669.79126558,  1467.79156048]]) <Unit('joule ** 0.5 * unified_atomic_mass_unit ** 0.5 / mole / picosecond ** 0.5 / second ** 0.5')>"
      ]
     },
     "execution_count": 19,
     "metadata": {},
     "output_type": "execute_result"
    }
   ],
   "source": [
    "fluctuation_forces(damping, KT, dim, masses)"
   ]
  },
  {
   "cell_type": "code",
   "execution_count": 21,
   "id": "698a21ad-6ed0-488b-8b91-f0972c96461b",
   "metadata": {},
   "outputs": [
    {
     "name": "stderr",
     "output_type": "stream",
     "text": [
      "100%|████████████████████████████████████████████████████████████████████████████████████████████████████████████████████████████████| 9999/9999 [00:27<00:00, 370.23it/s]\n"
     ]
    }
   ],
   "source": [
    "for step_index in tqdm(range(1, n_steps)):\n",
    "    \n",
    "    forces = potential_forces(positions)\n",
    "    forces += dissipation_forces(damping, velocities, masses)\n",
    "    forces += fluctuation_forces(damping, KT, dim, masses)\n",
    "    \n",
    "    positions, velocities = euler_integrator(positions, velocities, forces, masses, delta_t)\n",
    "    \n",
    "    trajectory_positions[step_index, :, :] = positions[:, :]\n",
    "    trajectory_velocities[step_index, :, :] = velocities[:, :]\n",
    "    trajectory_time[step_index] = step_index*delta_t"
   ]
  },
  {
   "cell_type": "code",
   "execution_count": 22,
   "id": "ae62d7a8-02d5-4721-9f84-6177df98b614",
   "metadata": {},
   "outputs": [
    {
     "name": "stderr",
     "output_type": "stream",
     "text": [
      "/home/diego/Myopt/miniconda3/envs/Molecular-Dynamics-DIY/lib/python3.7/site-packages/matplotlib/cbook/__init__.py:1298: UnitStrippedWarning: The unit of the quantity is stripped when downcasting to ndarray.\n",
      "  return np.asarray(x, float)\n",
      "/home/diego/Myopt/miniconda3/envs/Molecular-Dynamics-DIY/lib/python3.7/site-packages/matplotlib/cbook/__init__.py:1298: UnitStrippedWarning: The unit of the quantity is stripped when downcasting to ndarray.\n",
      "  return np.asarray(x, float)\n",
      "/home/diego/Myopt/miniconda3/envs/Molecular-Dynamics-DIY/lib/python3.7/site-packages/matplotlib/cbook/__init__.py:1298: UnitStrippedWarning: The unit of the quantity is stripped when downcasting to ndarray.\n",
      "  return np.asarray(x, float)\n"
     ]
    },
    {
     "data": {
      "image/png": "[encoded data removed]",
      "text/plain": [
       "<Figure size 432x288 with 1 Axes>"
      ]
     },
     "metadata": {
      "needs_background": "light"
     },
     "output_type": "display_data"
    }
   ],
   "source": [
    "particle_index=0\n",
    "\n",
    "plt.plot(trajectory_time, trajectory_positions[:, particle_index, 0])\n",
    "plt.plot(trajectory_time, trajectory_positions[:, particle_index, 1])\n",
    "plt.plot(trajectory_time, trajectory_positions[:, particle_index, 2])\n",
    "plt.show()"
   ]
  },
  {
   "cell_type": "code",
   "execution_count": null,
   "id": "63d51543-b050-4798-b432-d6a9c1666073",
   "metadata": {},
   "outputs": [],
   "source": [
    "trajectory_positions[:, particle_index, 0]"
   ]
  },
  {
   "cell_type": "code",
   "execution_count": null,
   "id": "aa71efd4-657d-473e-8d0c-286b2c1f8e1b",
   "metadata": {},
   "outputs": [],
   "source": []
  }
 ],
 "metadata": {
  "kernelspec": {
   "display_name": "Python 3 (ipykernel)",
   "language": "python",
   "name": "python3"
  },
  "language_info": {
   "codemirror_mode": {
    "name": "ipython",
    "version": 3
   },
   "file_extension": ".py",
   "mimetype": "text/x-python",
   "name": "python",
   "nbconvert_exporter": "python",
   "pygments_lexer": "ipython3",
   "version": "3.7.12"
  }
 },
 "nbformat": 4,
 "nbformat_minor": 5
}
